{
 "cells": [
  {
   "cell_type": "code",
   "execution_count": null,
   "metadata": {},
   "outputs": [],
   "source": [
    "import os\n",
    "import pickle\n",
    "import torch\n",
    "from rdkit import Chem\n",
    "import pandas as pd\n",
    "import numpy as np\n",
    "torch.set_default_tensor_type('torch.cuda.FloatTensor')\n",
    "from AttentiveFP import save_smiles_dicts, get_smiles_array"
   ]
  },
  {
   "cell_type": "code",
   "execution_count": null,
   "metadata": {},
   "outputs": [],
   "source": [
    "model_details_df = pd.read_csv('../data/model_details.csv', index_col= 'index')\n",
    "raw_filename = \"../data/dataset.csv\""
   ]
  },
  {
   "cell_type": "code",
   "execution_count": null,
   "metadata": {},
   "outputs": [],
   "source": [
    "for best_name in model_details_df.index:\n",
    "\n",
    "    batch_size = 128\n",
    "    fingerprint_dim = model_details_df['fingerprint_dim']['{}'.format(best_name)]\n",
    "    radius = model_details_df['radius']['{}'.format(best_name)]\n",
    "    T = model_details_df['T']['{}'.format(best_name)]\n",
    "    moddel_path = model_details_df['model_path']['{}'.format(best_name)]\n",
    "    model = torch.load(model_details_df['model_path']['{}'.format(best_name)])\n",
    "    output_units_num = 1\n",
    "\n",
    "    feature_filename = raw_filename.replace('.csv','.pickle')\n",
    "    filename = raw_filename.replace('.csv','')\n",
    "    smiles_tasks_df = pd.read_csv(raw_filename)\n",
    "    smilesList = smiles_tasks_df.smiles.values\n",
    "    print(\"number of all smiles: \",len(smilesList))\n",
    "    atom_num_dist = []\n",
    "    remained_smiles = []\n",
    "    canonical_smiles_list = []\n",
    "    for smiles in smilesList:\n",
    "        try:        \n",
    "            mol = Chem.MolFromSmiles(smiles)\n",
    "            atom_num_dist.append(len(mol.GetAtoms()))\n",
    "            remained_smiles.append(smiles)\n",
    "            canonical_smiles_list.append(Chem.MolToSmiles(Chem.MolFromSmiles(smiles), isomericSmiles=True))\n",
    "        except:\n",
    "            print(smiles)\n",
    "            pass\n",
    "    print(\"number of successfully processed smiles: \", len(remained_smiles))\n",
    "    smiles_tasks_df = smiles_tasks_df[smiles_tasks_df[\"smiles\"].isin(remained_smiles)]\n",
    "    smiles_tasks_df['cano_smiles'] =canonical_smiles_list\n",
    "    assert canonical_smiles_list[8]==Chem.MolToSmiles(Chem.MolFromSmiles(smiles_tasks_df['cano_smiles'][8]), isomericSmiles=True)\n",
    "    smilesList = [smiles for smiles in canonical_smiles_list]\n",
    "\n",
    "    if os.path.isfile(feature_filename):\n",
    "        feature_dicts = pickle.load(open(feature_filename, \"rb\" ))\n",
    "    else:\n",
    "        feature_dicts = save_smiles_dicts(smilesList,filename)\n",
    "    remained_df = smiles_tasks_df[smiles_tasks_df[\"cano_smiles\"].isin(feature_dicts['smiles_to_atom_mask'].keys())]\n",
    "\n",
    "    model.eval()\n",
    "    preList = np.arange(0,remained_df.shape[0])\n",
    "    batch_list = []\n",
    "    y_pred_label=[]\n",
    "    for i in range(0, remained_df.shape[0], batch_size):\n",
    "        batch = preList[i:i+batch_size]\n",
    "        batch_list.append(batch) \n",
    "    for counter, pre_batch in enumerate(batch_list):\n",
    "        batch_df = remained_df.loc[pre_batch,:]\n",
    "        smiles_list = batch_df.cano_smiles.values\n",
    "        \n",
    "        x_atom, x_bonds, x_atom_index, x_bond_index, x_mask, smiles_to_rdkit_list = get_smiles_array(smiles_list,feature_dicts)\n",
    "        atoms_prediction, mol_prediction, _ = model(torch.Tensor(x_atom),torch.Tensor(x_bonds),torch.cuda.LongTensor(x_atom_index),torch.cuda.LongTensor(x_bond_index),torch.Tensor(x_mask))\n",
    "        \n",
    "        mol_prediction_np = mol_prediction.cpu()\n",
    "        y_pred_label.append(mol_prediction_np.detach().numpy())\n",
    "    y_pred_label_list = [i[0] for item in y_pred_label for i in item]\n",
    "    remained_df['y_pred_label'] = y_pred_label_list\n",
    "    remained_df.to_csv(\"../results/labeled_{}.csv\".format(best_name),mode = 'a',index =False)"
   ]
  }
 ],
 "metadata": {
  "kernelspec": {
   "display_name": "pyg",
   "language": "python",
   "name": "python3"
  },
  "language_info": {
   "codemirror_mode": {
    "name": "ipython",
    "version": 3
   },
   "file_extension": ".py",
   "mimetype": "text/x-python",
   "name": "python",
   "nbconvert_exporter": "python",
   "pygments_lexer": "ipython3",
   "version": "3.7.11"
  },
  "orig_nbformat": 4,
  "vscode": {
   "interpreter": {
    "hash": "e7cd4ab3795b19bcaabc245b3de58fc014c4a91b397e1a8c471ec940ed1b3eb0"
   }
  }
 },
 "nbformat": 4,
 "nbformat_minor": 2
}
